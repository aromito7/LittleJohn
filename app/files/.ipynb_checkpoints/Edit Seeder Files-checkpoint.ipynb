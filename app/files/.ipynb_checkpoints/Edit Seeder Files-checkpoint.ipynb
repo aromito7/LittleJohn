{
 "cells": [
  {
   "cell_type": "code",
   "execution_count": 11,
   "id": "9384d8d1",
   "metadata": {},
   "outputs": [
    {
     "name": "stdout",
     "output_type": "stream",
     "text": [
      "dict_keys(['Open', 'High', 'Low', 'Close', 'Volume'])\n"
     ]
    }
   ],
   "source": [
    "import json\n",
    "with open('stock_seeds.txt') as f:\n",
    "    data = f.readlines()"
   ]
  },
  {
   "cell_type": "code",
   "execution_count": 12,
   "id": "b512f6eb",
   "metadata": {},
   "outputs": [
    {
     "name": "stdout",
     "output_type": "stream",
     "text": [
      "dict_keys(['Open', 'High', 'Low', 'Close', 'Volume'])\n"
     ]
    }
   ],
   "source": [
    "print((json.loads(data[0])['history']).keys())"
   ]
  },
  {
   "cell_type": "code",
   "execution_count": 38,
   "id": "23f290cc",
   "metadata": {},
   "outputs": [],
   "source": [
    "with open('stock_seeds2.txt', 'a') as f:\n",
    "    for datum in data:\n",
    "        datum = json.loads(datum)\n",
    "        datum['history'].pop('Open')\n",
    "        datum['history'].pop('High')\n",
    "        datum['history'].pop('Low')\n",
    "        datum['history'].pop('Volume')\n",
    "\n",
    "        keys = list(datum['history']['Close'].keys())[-480:]\n",
    "        datum['history']['Close'] = {key : datum['history']['Close'][key] for key in keys}\n",
    "        \n",
    "        f.write(json.dumps(datum))\n",
    "        f.write('\\n')"
   ]
  },
  {
   "cell_type": "code",
   "execution_count": 36,
   "id": "bd6d3131",
   "metadata": {},
   "outputs": [],
   "source": [
    "for datum in data[:1]:\n",
    "    datum = json.loads(datum)\n",
    "    datum['history'].pop('Open')\n",
    "    datum['history'].pop('High')\n",
    "    datum['history'].pop('Low')\n",
    "    datum['history'].pop('Volume')\n",
    "    \n",
    "    keys = list(datum['history']['Close'].keys())[-480:]\n",
    "    datum['history']['Close'] = {key : datum['history']['Close'][key] for key in keys}\n",
    "    "
   ]
  },
  {
   "cell_type": "code",
   "execution_count": null,
   "id": "8312bd64",
   "metadata": {},
   "outputs": [],
   "source": []
  }
 ],
 "metadata": {
  "kernelspec": {
   "display_name": "Python 3 (ipykernel)",
   "language": "python",
   "name": "python3"
  },
  "language_info": {
   "codemirror_mode": {
    "name": "ipython",
    "version": 3
   },
   "file_extension": ".py",
   "mimetype": "text/x-python",
   "name": "python",
   "nbconvert_exporter": "python",
   "pygments_lexer": "ipython3",
   "version": "3.9.4"
  }
 },
 "nbformat": 4,
 "nbformat_minor": 5
}
